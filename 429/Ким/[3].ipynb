{
 "cells": [
  {
   "cell_type": "code",
   "execution_count": 1,
   "id": "4aa03808",
   "metadata": {},
   "outputs": [],
   "source": [
    "def read_maze(txt):\n",
    "    maze=[]\n",
    "    it=0\n",
    "    temp=open(txt, 'r')\n",
    "    for line in temp:\n",
    "        maze.append([])\n",
    "        for i in range(0,len(line)):\n",
    "            if (line[i]!='\\n'):\n",
    "                maze[it].append(line[i])\n",
    "        it+=1\n",
    "    return(maze)"
   ]
  },
  {
   "cell_type": "code",
   "execution_count": 2,
   "id": "eb003b89",
   "metadata": {},
   "outputs": [],
   "source": [
    "import random\n",
    "def add_key(maze):\n",
    "    while(True):\n",
    "        key_coord=[random.randint(1,len(maze)-2),random.randint(1,len(maze[0])-2)]\n",
    "        if (maze[key_coord[0]][key_coord[1]]==' '):\n",
    "            maze[key_coord[0]][key_coord[1]]='*'\n",
    "            return(key_coord)"
   ]
  },
  {
   "cell_type": "code",
   "execution_count": 3,
   "id": "139adc8c",
   "metadata": {},
   "outputs": [],
   "source": [
    "def check_exit(coord_now,maze):\n",
    "    if(coord_now[0]==len(maze)-1 and coord_now[1]==len(maze[0])-2):\n",
    "        m[coord_now[0]][coord_now[1]]='1'\n",
    "        return(True)\n",
    "    else:\n",
    "        m[coord_now[0]][coord_now[1]]=','\n",
    "    return(False)"
   ]
  },
  {
   "cell_type": "code",
   "execution_count": 4,
   "id": "a5ee9520",
   "metadata": {},
   "outputs": [],
   "source": [
    "def check_key(coord_now,coord_key,maze):\n",
    "    if(coord_now[0]==coord_key[0] and coord_now[1]==coord_key[1]):\n",
    "        m[len(maze)-1][len(maze[0])-2]=' '\n",
    "        return(True)\n",
    "    else:\n",
    "        m[coord_now[0]][coord_now[1]]='.'\n",
    "    return(False)"
   ]
  },
  {
   "cell_type": "code",
   "execution_count": 5,
   "id": "5aa691af",
   "metadata": {},
   "outputs": [],
   "source": [
    "def view_around(coord_now,maze,possible_steps):\n",
    "    if(((maze[coord_now[0]-1][coord_now[1]]==' ') or (maze[coord_now[0]-1][coord_now[1]]=='*')) and ([coord_now[0]-1,coord_now[1]] not in possible_steps)):\n",
    "        possible_steps.append([coord_now[0]-1,coord_now[1]])\n",
    "    if(((maze[coord_now[0]+1][coord_now[1]]==' ') or (maze[coord_now[0]+1][coord_now[1]]=='*')) and ([coord_now[0]+1,coord_now[1]] not in possible_steps)):\n",
    "        possible_steps.append([coord_now[0]+1,coord_now[1]])\n",
    "    if(((maze[coord_now[0]][coord_now[1]-1]==' ') or (maze[coord_now[0]][coord_now[1]-1]=='*')) and ([coord_now[0],coord_now[1]-1] not in possible_steps)):\n",
    "        possible_steps.append([coord_now[0],coord_now[1]-1])\n",
    "    if(((maze[coord_now[0]][coord_now[1]+1]==' ') or (maze[coord_now[0]][coord_now[1]+1]=='*')) and ([coord_now[0],coord_now[1]+1] not in possible_steps)):\n",
    "        possible_steps.append([coord_now[0],coord_now[1]+1])"
   ]
  },
  {
   "cell_type": "code",
   "execution_count": 6,
   "id": "36a8406b",
   "metadata": {},
   "outputs": [],
   "source": [
    "def Poisk_v_Glybiny(start,maze,possible_steps,coord_key):\n",
    "    if(check_key(start,coord_key,maze)==True):\n",
    "        return(0)\n",
    "    view_around(start,maze,possible_steps)\n",
    "    new_coord=step_pvg(start,maze,possible_steps)\n",
    "    Poisk_v_Glybiny(new_coord,maze,possible_steps,coord_key)\n",
    "def step_pvg(coord_now,maze,possible_steps):\n",
    "    temp=possible_steps[len(possible_steps)-1]\n",
    "    possible_steps.pop(len(possible_steps)-1)\n",
    "#    maze[coord_now[0]][coord_now[1]]='.'\n",
    "    return(temp)\n",
    "# Этот код является поиском в глубину, т.к. я \"иду\" всегда в последний добавленный возможный путь.\n",
    "# Соответственно, если я поменяю порядок добавления ячеек в функции view_around результат\n",
    "# работы алгоритма может поменяться."
   ]
  },
  {
   "cell_type": "code",
   "execution_count": 7,
   "id": "cf155657",
   "metadata": {
    "scrolled": false
   },
   "outputs": [
    {
     "name": "stdout",
     "output_type": "stream",
     "text": [
      "['#', '#', '.', '#', '#', '#', '#', '#', '#', '#', '#', '#', '#', '#', '#', '#', '#', '#', '#', '#', '#', '#', '#', '#']\n",
      "['#', ' ', '.', '.', '.', '.', '.', '.', '#', ' ', ' ', '#', ' ', ' ', '#', '.', '.', '.', '.', '#', '.', '.', '.', '#']\n",
      "['#', '#', '#', '#', '#', ' ', '.', '#', '#', ' ', ' ', '#', ' ', ' ', '#', '.', '.', '.', '.', '#', '.', '#', '#', '#']\n",
      "['#', '.', '.', '.', '.', ' ', '.', '.', '.', '.', '.', '.', '.', '.', '#', '.', '.', '.', '.', '.', '.', '.', '.', '#']\n",
      "['#', '.', '.', '#', '#', '#', '#', '#', '#', '#', '#', '#', ' ', '.', '#', '.', '.', '.', '.', '#', '.', '.', '.', '#']\n",
      "['#', '.', '.', '.', '.', '.', '.', '.', '.', '.', '.', '.', '.', '.', '#', '.', '.', '.', '.', '#', '.', '.', '.', '#']\n",
      "['#', '#', '#', '#', '#', '#', '.', '#', '#', '#', ' ', ' ', ' ', ' ', '.', '.', '.', '#', '#', '#', '#', '.', '.', '#']\n",
      "['#', '.', '.', '.', '.', ' ', '.', '.', '.', '#', '#', '#', '#', '#', '#', '.', '.', '#', '.', '.', '.', '.', '.', '#']\n",
      "['#', '.', '.', '*', '#', '#', '#', '#', '.', '.', '.', '.', '.', '.', '#', '.', '.', '.', '.', '.', '.', '.', '.', '#']\n",
      "['#', '.', '.', '.', '.', '.', ' ', '#', '#', '#', '#', '#', '#', '.', '#', '#', '#', '#', '#', '#', '.', '#', '#', '#']\n",
      "['#', '.', '.', '.', '#', '.', '.', '.', '.', '.', '.', '.', '.', '.', '.', '.', '.', '.', '.', '.', '.', '.', '.', '#']\n",
      "['#', '#', '#', '#', '#', '#', '#', '#', '#', '#', '#', '#', '#', '#', '#', '#', '#', '#', '#', '#', '#', '#', ' ', '#']\n"
     ]
    }
   ],
   "source": [
    "m=read_maze('mini_maze.txt')\n",
    "key_coord=add_key(m)\n",
    "m[len(m)-1][len(m[0])-2]='#'\n",
    "Poisk_v_Glybiny([0,2],m,[],key_coord)\n",
    "for i in range(0,len(m)):\n",
    "    print(m[i])"
   ]
  },
  {
   "cell_type": "code",
   "execution_count": null,
   "id": "55fdbc1e",
   "metadata": {},
   "outputs": [],
   "source": []
  },
  {
   "cell_type": "code",
   "execution_count": 8,
   "id": "4164bf83",
   "metadata": {},
   "outputs": [],
   "source": [
    "def Poisk_v_IIIiriny(start,maze,possible_steps,coord_key):\n",
    "    if (check_key(start,coord_key,maze)==True):\n",
    "        return(0)\n",
    "    view_around(start,maze,possible_steps)\n",
    "    new_coord=step_pvsh(start,maze,possible_steps)\n",
    "    Poisk_v_IIIiriny(new_coord,maze,possible_steps,coord_key)\n",
    "def step_pvsh(coord_now,maze,possible_steps):\n",
    "    temp=possible_steps[0]\n",
    "    possible_steps.pop(0)\n",
    "#    maze[coord_now[0]][coord_now[1]]='.'\n",
    "    return(temp)"
   ]
  },
  {
   "cell_type": "code",
   "execution_count": 9,
   "id": "65b4803e",
   "metadata": {
    "scrolled": false
   },
   "outputs": [
    {
     "name": "stdout",
     "output_type": "stream",
     "text": [
      "['#', '#', '.', '#', '#', '#', '#', '#', '#', '#', '#', '#', '#', '#', '#', '#', '#', '#', '#', '#', '#', '#', '#', '#']\n",
      "['#', '.', '.', '.', '.', '.', '.', '.', '#', '.', '.', '#', '.', '.', '#', '.', '.', '.', '.', '#', '.', ' ', ' ', '#']\n",
      "['#', '#', '#', '#', '#', '.', '.', '#', '#', '.', '.', '#', '.', '.', '#', '.', '.', '.', '.', '#', '.', '#', '#', '#']\n",
      "['#', '.', '.', '.', '.', '.', '.', '.', '.', '.', '.', '.', '.', '.', '#', '.', '.', '.', '.', '.', '.', '.', ' ', '#']\n",
      "['#', '.', '.', '#', '#', '#', '#', '#', '#', '#', '#', '#', '.', '.', '#', '.', '.', '.', '.', '#', '.', ' ', ' ', '#']\n",
      "['#', '.', '.', '.', '.', '.', '.', '.', '.', '.', '.', '.', '.', '.', '#', '.', '.', '.', '.', '#', '*', ' ', ' ', '#']\n",
      "['#', '#', '#', '#', '#', '#', '.', '#', '#', '#', '.', '.', '.', '.', '.', '.', '.', '#', '#', '#', '#', ' ', ' ', '#']\n",
      "['#', '.', '.', '.', '.', '.', '.', '.', '.', '#', '#', '#', '#', '#', '#', '.', '.', '#', '.', '.', '.', '.', ' ', '#']\n",
      "['#', '.', '.', '.', '#', '#', '#', '#', '.', '.', '.', '.', '.', '.', '#', '.', '.', '.', '.', '.', '.', '.', '.', '#']\n",
      "['#', '.', '.', '.', '.', '.', '.', '#', '#', '#', '#', '#', '#', '.', '#', '#', '#', '#', '#', '#', '.', '#', '#', '#']\n",
      "['#', '.', '.', '.', '#', '.', '.', '.', '.', '.', ' ', '.', '.', '.', '.', '.', ' ', ' ', ' ', ' ', '.', ' ', ' ', '#']\n",
      "['#', '#', '#', '#', '#', '#', '#', '#', '#', '#', '#', '#', '#', '#', '#', '#', '#', '#', '#', '#', '#', '#', ' ', '#']\n"
     ]
    }
   ],
   "source": [
    "m=read_maze('mini_maze.txt')\n",
    "key_coord=add_key(m)\n",
    "m[len(m)-1][len(m[0])-2]='#'\n",
    "Poisk_v_IIIiriny([0,2],m,[],key_coord)\n",
    "for i in range(0,len(m)):\n",
    "    print(m[i])"
   ]
  },
  {
   "cell_type": "code",
   "execution_count": null,
   "id": "919bfc10",
   "metadata": {},
   "outputs": [],
   "source": []
  },
  {
   "cell_type": "code",
   "execution_count": 12,
   "id": "b6eb4230",
   "metadata": {},
   "outputs": [],
   "source": [
    "def Deikstra(start,maze,possible_steps,coord_key):\n",
    "    if (check_key(start,coord_key,maze)==True):\n",
    "        return(0)\n",
    "    view_around_d(start,maze,possible_steps)\n",
    "    new_coord=step_d(start,maze,possible_steps)\n",
    "    Deikstra(new_coord,maze,possible_steps,coord_key)\n",
    "def view_around_d(coord_now,maze,possible_steps):\n",
    "    if(((maze[coord_now[0]-1][coord_now[1]]==' ') or (maze[coord_now[0]-1][coord_now[1]]=='*')) and ([coord_now[0]-1,coord_now[1],coord_now[2]+1] not in possible_steps)):\n",
    "        possible_steps.append([coord_now[0]-1,coord_now[1],coord_now[2]+1])\n",
    "    if(((maze[coord_now[0]+1][coord_now[1]]==' ') or (maze[coord_now[0]+1][coord_now[1]]=='*')) and ([coord_now[0]+1,coord_now[1],coord_now[2]+1] not in possible_steps)):\n",
    "        possible_steps.append([coord_now[0]+1,coord_now[1],coord_now[2]+1])\n",
    "    if(((maze[coord_now[0]][coord_now[1]-1]==' ') or (maze[coord_now[0]][coord_now[1]-1]=='*')) and ([coord_now[0],coord_now[1]-1,coord_now[2]+1] not in possible_steps)):\n",
    "        possible_steps.append([coord_now[0],coord_now[1]-1,coord_now[2]+1])\n",
    "    if(((maze[coord_now[0]][coord_now[1]+1]==' ') or (maze[coord_now[0]][coord_now[1]+1]=='*')) and ([coord_now[0],coord_now[1]+1,coord_now[2]+1] not in possible_steps)):\n",
    "        possible_steps.append([coord_now[0],coord_now[1]+1,coord_now[2]+1])\n",
    "def step_d(coord_now,maze,possible_steps):\n",
    "    for i in range(0,len(possible_steps)):\n",
    "        for j in range(0, len(possible_steps)-i-1):\n",
    "            if possible_steps[j][2] > possible_steps[j+1][2]:\n",
    "                possible_steps[j], possible_steps[j+1] = possible_steps[j+1], possible_steps[j]\n",
    "    temp=possible_steps[0]\n",
    "    possible_steps.pop(0)\n",
    "#    maze[coord_now[0]][coord_now[1]]='.'\n",
    "    return(temp)\n",
    "# Не до конца понимаю смысл этого алгоритма\n",
    "# Я имею ввиду, какой смысл применять его в этой задаче?\n",
    "# Учитывая, что расстояние между соседними клетками везде равно единице\n",
    "# Этот алгоритм будет работать также, как и поиск в ширину, разве нет?\n",
    "# Но нагрузка будет больше из-за сортировки (А у меня еще и бабл, не самая быстрая)"
   ]
  },
  {
   "cell_type": "code",
   "execution_count": 13,
   "id": "d7ae1ceb",
   "metadata": {
    "scrolled": true
   },
   "outputs": [
    {
     "name": "stdout",
     "output_type": "stream",
     "text": [
      "['#', '#', '.', '#', '#', '#', '#', '#', '#', '#', '#', '#', '#', '#', '#', '#', '#', '#', '#', '#', '#', '#', '#', '#']\n",
      "['#', '.', '.', '.', '.', '.', '.', '.', '#', ' ', ' ', '#', ' ', ' ', '#', ' ', ' ', ' ', ' ', '#', ' ', ' ', ' ', '#']\n",
      "['#', '#', '#', '#', '#', '.', '.', '#', '#', ' ', ' ', '#', ' ', ' ', '#', ' ', ' ', ' ', ' ', '#', ' ', '#', '#', '#']\n",
      "['#', ' ', ' ', ' ', '.', '.', '*', ' ', ' ', ' ', ' ', ' ', ' ', ' ', '#', ' ', ' ', ' ', ' ', ' ', ' ', ' ', ' ', '#']\n",
      "['#', ' ', ' ', '#', '#', '#', '#', '#', '#', '#', '#', '#', ' ', ' ', '#', ' ', ' ', ' ', ' ', '#', ' ', ' ', ' ', '#']\n",
      "['#', ' ', ' ', ' ', ' ', ' ', ' ', ' ', ' ', ' ', ' ', ' ', ' ', ' ', '#', ' ', ' ', ' ', ' ', '#', ' ', ' ', ' ', '#']\n",
      "['#', '#', '#', '#', '#', '#', ' ', '#', '#', '#', ' ', ' ', ' ', ' ', ' ', ' ', ' ', '#', '#', '#', '#', ' ', ' ', '#']\n",
      "['#', ' ', ' ', ' ', ' ', ' ', ' ', ' ', ' ', '#', '#', '#', '#', '#', '#', ' ', ' ', '#', ' ', ' ', ' ', ' ', ' ', '#']\n",
      "['#', ' ', ' ', ' ', '#', '#', '#', '#', ' ', ' ', ' ', ' ', ' ', ' ', '#', ' ', ' ', ' ', ' ', ' ', ' ', ' ', ' ', '#']\n",
      "['#', ' ', ' ', ' ', ' ', ' ', ' ', '#', '#', '#', '#', '#', '#', ' ', '#', '#', '#', '#', '#', '#', ' ', '#', '#', '#']\n",
      "['#', ' ', ' ', ' ', '#', ' ', ' ', ' ', ' ', ' ', ' ', ' ', ' ', ' ', ' ', ' ', ' ', ' ', ' ', ' ', ' ', ' ', ' ', '#']\n",
      "['#', '#', '#', '#', '#', '#', '#', '#', '#', '#', '#', '#', '#', '#', '#', '#', '#', '#', '#', '#', '#', '#', ' ', '#']\n"
     ]
    }
   ],
   "source": [
    "m=read_maze('mini_maze.txt')\n",
    "key_coord=add_key(m)\n",
    "m[len(m)-1][len(m[0])-2]='#'\n",
    "Deikstra([0,2,0],m,[],key_coord)\n",
    "for i in range(0,len(m)):\n",
    "    print(m[i])"
   ]
  },
  {
   "cell_type": "code",
   "execution_count": null,
   "id": "259d9dc2",
   "metadata": {},
   "outputs": [],
   "source": []
  },
  {
   "cell_type": "code",
   "execution_count": 14,
   "id": "733cd818",
   "metadata": {},
   "outputs": [],
   "source": [
    "def JKadnbIi_Algoritm(start,maze,possible_steps,coord_key):\n",
    "    if (check_key(start,coord_key,maze)==True):\n",
    "        return(0)\n",
    "    view_around_za(start,maze,possible_steps,coord_key)\n",
    "    new_coord=step_za(start,maze,possible_steps)\n",
    "    JKadnbIi_Algoritm(new_coord,maze,possible_steps,coord_key)\n",
    "def view_around_za(coord_now,maze,possible_steps,coord_key):\n",
    "    ves_1=(coord_key[0]-(coord_now[0]-1))*(coord_key[0]-(coord_now[0]-1))+(coord_key[1]-coord_now[1])*(coord_key[1]-coord_now[1])\n",
    "    ves_2=(coord_key[0]-(coord_now[0]+1))*(coord_key[0]-(coord_now[0]+1))+(coord_key[1]-coord_now[1])*(coord_key[1]-coord_now[1])\n",
    "    ves_3=(coord_key[0]-coord_now[0])*(coord_key[0]-coord_now[0])+(coord_key[1]-(coord_now[1]-1))*(coord_key[1]-(coord_now[1]-1))\n",
    "    ves_4=(coord_key[0]-coord_now[0])*(coord_key[0]-coord_now[0])+(coord_key[1]-(coord_now[1]+1))*(coord_key[1]-(coord_now[1]+1))\n",
    "    if(((maze[coord_now[0]-1][coord_now[1]]==' ') or (maze[coord_now[0]-1][coord_now[1]]=='*')) and ([coord_now[0]-1,coord_now[1],ves_1] not in possible_steps)):\n",
    "        possible_steps.append([coord_now[0]-1,coord_now[1],ves_1])\n",
    "    if(((maze[coord_now[0]+1][coord_now[1]]==' ') or (maze[coord_now[0]+1][coord_now[1]]=='*')) and ([coord_now[0]+1,coord_now[1],ves_2] not in possible_steps)):\n",
    "        possible_steps.append([coord_now[0]+1,coord_now[1],ves_2])\n",
    "    if(((maze[coord_now[0]][coord_now[1]-1]==' ') or (maze[coord_now[0]][coord_now[1]-1]=='*')) and ([coord_now[0],coord_now[1]-1,ves_3] not in possible_steps)):\n",
    "        possible_steps.append([coord_now[0],coord_now[1]-1,ves_3])\n",
    "    if(((maze[coord_now[0]][coord_now[1]+1]==' ') or (maze[coord_now[0]][coord_now[1]+1]=='*')) and ([coord_now[0],coord_now[1]+1,ves_4] not in possible_steps)):\n",
    "        possible_steps.append([coord_now[0],coord_now[1]+1,ves_4])\n",
    "def step_za(coord_now,maze,possible_steps):\n",
    "    for i in range(0,len(possible_steps)):\n",
    "        for j in range(0, len(possible_steps)-i-1):\n",
    "            if possible_steps[j][2] > possible_steps[j+1][2]:\n",
    "                possible_steps[j], possible_steps[j+1] = possible_steps[j+1], possible_steps[j]\n",
    "    temp=possible_steps[0]\n",
    "    possible_steps.pop(0)\n",
    "#    maze[coord_now[0]][coord_now[1]]='.'\n",
    "    return(temp)"
   ]
  },
  {
   "cell_type": "code",
   "execution_count": 23,
   "id": "0b1a89fa",
   "metadata": {
    "scrolled": true
   },
   "outputs": [
    {
     "name": "stdout",
     "output_type": "stream",
     "text": [
      "['#', '#', '.', '#', '#', '#', '#', '#', '#', '#', '#', '#', '#', '#', '#', '#', '#', '#', '#', '#', '#', '#', '#', '#']\n",
      "['#', ' ', '.', '.', '.', '.', '.', ' ', '#', ' ', ' ', '#', ' ', ' ', '#', ' ', ' ', ' ', ' ', '#', ' ', ' ', ' ', '#']\n",
      "['#', '#', '#', '#', '#', ' ', '.', '#', '#', ' ', ' ', '#', ' ', ' ', '#', ' ', ' ', ' ', ' ', '#', ' ', '#', '#', '#']\n",
      "['#', ' ', ' ', ' ', ' ', ' ', '.', '.', '.', '.', '.', '.', '.', ' ', '#', ' ', ' ', ' ', ' ', ' ', ' ', ' ', ' ', '#']\n",
      "['#', ' ', ' ', '#', '#', '#', '#', '#', '#', '#', '#', '#', '.', ' ', '#', ' ', ' ', ' ', ' ', '#', ' ', ' ', ' ', '#']\n",
      "['#', ' ', ' ', ' ', ' ', ' ', ' ', ' ', ' ', ' ', ' ', ' ', '.', ' ', '#', ' ', ' ', ' ', ' ', '#', ' ', ' ', ' ', '#']\n",
      "['#', '#', '#', '#', '#', '#', ' ', '#', '#', '#', ' ', '*', '.', ' ', ' ', ' ', ' ', '#', '#', '#', '#', ' ', ' ', '#']\n",
      "['#', ' ', ' ', ' ', ' ', ' ', ' ', ' ', ' ', '#', '#', '#', '#', '#', '#', ' ', ' ', '#', ' ', ' ', ' ', ' ', ' ', '#']\n",
      "['#', ' ', ' ', ' ', '#', '#', '#', '#', ' ', ' ', ' ', ' ', ' ', ' ', '#', ' ', ' ', ' ', ' ', ' ', ' ', ' ', ' ', '#']\n",
      "['#', ' ', ' ', ' ', ' ', ' ', ' ', '#', '#', '#', '#', '#', '#', ' ', '#', '#', '#', '#', '#', '#', ' ', '#', '#', '#']\n",
      "['#', ' ', ' ', ' ', '#', ' ', ' ', ' ', ' ', ' ', ' ', ' ', ' ', ' ', ' ', ' ', ' ', ' ', ' ', ' ', ' ', ' ', ' ', '#']\n",
      "['#', '#', '#', '#', '#', '#', '#', '#', '#', '#', '#', '#', '#', '#', '#', '#', '#', '#', '#', '#', '#', '#', ' ', '#']\n"
     ]
    }
   ],
   "source": [
    "m=read_maze('mini_maze.txt')\n",
    "key_coord=add_key(m)\n",
    "m[len(m)-1][len(m[0])-2]='#'\n",
    "JKadnbIi_Algoritm([0,2,0],m,[],key_coord)\n",
    "for i in range(0,len(m)):\n",
    "    print(m[i])"
   ]
  },
  {
   "cell_type": "code",
   "execution_count": null,
   "id": "22350e34",
   "metadata": {},
   "outputs": [],
   "source": []
  },
  {
   "cell_type": "code",
   "execution_count": 24,
   "id": "f16af3e0",
   "metadata": {},
   "outputs": [],
   "source": [
    "def A_ZBe3do4ka(start,maze,possible_steps,coord_key,h,g,limit):\n",
    "    if (check_exit(start,maze)==True):\n",
    "        return(0)\n",
    "    if (len(possible_steps)!=limit):\n",
    "        view_around_A(start,maze,possible_steps,coord_key,h,g)\n",
    "    if(len(possible_steps)==0):\n",
    "        view_around_vse_ploxo_A(start,maze,possible_steps,coord_key,h,g)\n",
    "    new_coord=step_A(start,maze,possible_steps)\n",
    "    A_ZBe3do4ka(new_coord,maze,possible_steps,coord_key,h,g,limit)\n",
    "def view_around_A(coord_now,maze,possible_steps,coord_key,h,g):\n",
    "    ves_1=g*((coord_now[0]-1-coord_key[0])*(coord_now[0]-1-coord_key[1])+(coord_now[1]-coord_key[1])*(coord_now[1]-coord_key[1]))+h*((len(maze)-1-(coord_now[0]-1))*(len(maze)-1-(coord_now[0]-1))+(len(maze[0])-2-coord_now[1])*(len(maze[0])-2-coord_now[1]))\n",
    "    ves_2=g*((coord_now[0]+1-coord_key[0])*(coord_now[0]+1-coord_key[1])+(coord_now[1]-coord_key[1])*(coord_now[1]-coord_key[1]))+h*((len(maze)-1-(coord_now[0]+1))*(len(maze)-1-(coord_now[0]+1))+(len(maze[0])-2-coord_now[1])*(len(maze[0])-2-coord_now[1]))\n",
    "    ves_3=g*((coord_now[0]-coord_key[0])*(coord_now[0]-coord_key[1])+((coord_now[1]-1)-coord_key[1])*((coord_now[1]-1)-coord_key[1]))+h*((len(maze)-1-coord_now[0])*(len(maze)-1-coord_now[0])+(len(maze[0])-2-(coord_now[1]-1))*(len(maze[0])-2-(coord_now[1]-1)))\n",
    "    ves_4=g*((coord_now[0]-coord_key[0])*(coord_now[0]-coord_key[1])+((coord_now[1]+1)-coord_key[1])*((coord_now[1]+1)-coord_key[1]))+h*((len(maze)-1-coord_now[0])*(len(maze)-1-coord_now[0])+(len(maze[0])-2-(coord_now[1]+1))*(len(maze[0])-2-(coord_now[1]+1)))\n",
    "    if(((maze[coord_now[0]-1][coord_now[1]]==' ') or (maze[coord_now[0]-1][coord_now[1]]=='.')) and ([coord_now[0]-1,coord_now[1],ves_1] not in possible_steps)):\n",
    "        possible_steps.append([coord_now[0]-1,coord_now[1],ves_1])\n",
    "    if(((maze[coord_now[0]+1][coord_now[1]]==' ') or (maze[coord_now[0]+1][coord_now[1]]=='.')) and ([coord_now[0]+1,coord_now[1],ves_2] not in possible_steps)):\n",
    "        possible_steps.append([coord_now[0]+1,coord_now[1],ves_2])\n",
    "    if(((maze[coord_now[0]][coord_now[1]-1]==' ') or (maze[coord_now[0]][coord_now[1]-1]=='.')) and ([coord_now[0],coord_now[1]-1,ves_3] not in possible_steps)):\n",
    "        possible_steps.append([coord_now[0],coord_now[1]-1,ves_3])\n",
    "    if(((maze[coord_now[0]][coord_now[1]+1]==' ') or (maze[coord_now[0]][coord_now[1]+1]=='.')) and ([coord_now[0],coord_now[1]+1,ves_4] not in possible_steps)):\n",
    "        possible_steps.append([coord_now[0],coord_now[1]+1,ves_4])\n",
    "def view_around_vse_ploxo_A(coord_now,maze,possible_steps,coord_key,h,g):\n",
    "    ves_1=g*((coord_now[0]-1-coord_key[0])*(coord_now[0]-1-coord_key[1])+(coord_now[1]-coord_key[1])*(coord_now[1]-coord_key[1]))+h*((len(maze)-1-(coord_now[0]-1))*(len(maze)-1-(coord_now[0]-1))+(len(maze[0])-2-coord_now[1])*(len(maze[0])-2-coord_now[1]))\n",
    "    ves_2=g*((coord_now[0]+1-coord_key[0])*(coord_now[0]+1-coord_key[1])+(coord_now[1]-coord_key[1])*(coord_now[1]-coord_key[1]))+h*((len(maze)-1-(coord_now[0]+1))*(len(maze)-1-(coord_now[0]+1))+(len(maze[0])-2-coord_now[1])*(len(maze[0])-2-coord_now[1]))\n",
    "    ves_3=g*((coord_now[0]-coord_key[0])*(coord_now[0]-coord_key[1])+((coord_now[1]-1)-coord_key[1])*((coord_now[1]-1)-coord_key[1]))+h*((len(maze)-1-coord_now[0])*(len(maze)-1-coord_now[0])+(len(maze[0])-2-(coord_now[1]-1))*(len(maze[0])-2-(coord_now[1]-1)))\n",
    "    ves_4=g*((coord_now[0]-coord_key[0])*(coord_now[0]-coord_key[1])+((coord_now[1]+1)-coord_key[1])*((coord_now[1]+1)-coord_key[1]))+h*((len(maze)-1-coord_now[0])*(len(maze)-1-coord_now[0])+(len(maze[0])-2-(coord_now[1]+1))*(len(maze[0])-2-(coord_now[1]+1)))\n",
    "    if((maze[coord_now[0]-1][coord_now[1]]!='#') and ([coord_now[0]-1,coord_now[1],ves_1] not in possible_steps)):\n",
    "        possible_steps.append([coord_now[0]-1,coord_now[1],ves_1])\n",
    "    if((maze[coord_now[0]+1][coord_now[1]]!='#') and ([coord_now[0]+1,coord_now[1],ves_2] not in possible_steps)):\n",
    "        possible_steps.append([coord_now[0]+1,coord_now[1],ves_2])\n",
    "    if((maze[coord_now[0]][coord_now[1]-1]!='#') and ([coord_now[0],coord_now[1]-1,ves_3] not in possible_steps)):\n",
    "        possible_steps.append([coord_now[0],coord_now[1]-1,ves_3])\n",
    "    if((maze[coord_now[0]][coord_now[1]+1]!='#') and ([coord_now[0],coord_now[1]+1,ves_4] not in possible_steps)):\n",
    "        possible_steps.append([coord_now[0],coord_now[1]+1,ves_4])\n",
    "def step_A(coord_now,maze,possible_steps):\n",
    "    for i in range(0,len(possible_steps)):\n",
    "        for j in range(0, len(possible_steps)-i-1):\n",
    "            if possible_steps[j][2] > possible_steps[j+1][2]:\n",
    "                possible_steps[j], possible_steps[j+1] = possible_steps[j+1], possible_steps[j]\n",
    "    temp=possible_steps[0]\n",
    "    possible_steps.pop(0)\n",
    "#    maze[coord_now[0]][coord_now[1]]='.'\n",
    "    return(temp)"
   ]
  },
  {
   "cell_type": "code",
   "execution_count": 25,
   "id": "898fef55",
   "metadata": {},
   "outputs": [
    {
     "name": "stdout",
     "output_type": "stream",
     "text": [
      "['#', '#', '.', '#', '#', '#', '#', '#', '#', '#', '#', '#', '#', '#', '#', '#', '#', '#', '#', '#', '#', '#', '#', '#']\n",
      "['#', ' ', '.', '.', '.', '.', '.', '.', '#', ' ', ' ', '#', '.', '.', '#', '.', '*', ' ', ' ', '#', ' ', ' ', ' ', '#']\n",
      "['#', '#', '#', '#', '#', ' ', '.', '#', '#', ' ', ' ', '#', '.', '.', '#', '.', ',', ' ', ' ', '#', ' ', '#', '#', '#']\n",
      "['#', ' ', ' ', ' ', ' ', ' ', '.', '.', '.', '.', '.', '.', '.', '.', '#', '.', ',', ' ', ' ', ' ', ' ', ' ', ' ', '#']\n",
      "['#', ' ', ' ', '#', '#', '#', '#', '#', '#', '#', '#', '#', '.', '.', '#', '.', ',', ' ', ' ', '#', ' ', ' ', ' ', '#']\n",
      "['#', ' ', ' ', ' ', ' ', ' ', ' ', ' ', ' ', ' ', ' ', ' ', '.', '.', '#', '.', ',', ' ', ' ', '#', ' ', ' ', ' ', '#']\n",
      "['#', '#', '#', '#', '#', '#', ' ', '#', '#', '#', ' ', ' ', ' ', '.', '.', '.', ',', '#', '#', '#', '#', ' ', ' ', '#']\n",
      "['#', ' ', ' ', ' ', ' ', ' ', ' ', ' ', ' ', '#', '#', '#', '#', '#', '#', ' ', ',', '#', ' ', ' ', ' ', ' ', ' ', '#']\n",
      "['#', ' ', ' ', ' ', '#', '#', '#', '#', ' ', ' ', ' ', ' ', ' ', ' ', '#', ' ', ',', ',', ',', ',', ',', ',', ' ', '#']\n",
      "['#', ' ', ' ', ' ', ' ', ' ', ' ', '#', '#', '#', '#', '#', '#', ' ', '#', '#', '#', '#', '#', '#', ',', '#', '#', '#']\n",
      "['#', ' ', ' ', ' ', '#', ' ', ' ', ' ', ' ', ' ', ' ', ' ', ' ', ' ', ' ', ' ', ' ', ',', ',', ',', ',', ',', ',', '#']\n",
      "['#', '#', '#', '#', '#', '#', '#', '#', '#', '#', '#', '#', '#', '#', '#', '#', '#', '#', '#', '#', '#', '#', '1', '#']\n"
     ]
    }
   ],
   "source": [
    "m=read_maze('mini_maze.txt')\n",
    "key_coord=add_key(m)\n",
    "m[len(m)-1][len(m[0])-2]='#'\n",
    "JKadnbIi_Algoritm([0,2,0],m,[],key_coord)\n",
    "\n",
    "possible_steps=[]\n",
    "if (len(possible_steps)!=100):\n",
    "    view_around_A([key_coord[0],key_coord[1],0],m,possible_steps,key_coord,10,8)\n",
    "new_coord=step_A([key_coord[0],key_coord[1],0],m,possible_steps)\n",
    "A_ZBe3do4ka(new_coord,m,possible_steps,key_coord,10,8,100)\n",
    "    \n",
    "for i in range(0,len(m)):\n",
    "    print(m[i])"
   ]
  },
  {
   "cell_type": "code",
   "execution_count": null,
   "id": "1ea9f8a3",
   "metadata": {},
   "outputs": [],
   "source": []
  },
  {
   "cell_type": "code",
   "execution_count": 18,
   "id": "4092bdd1",
   "metadata": {},
   "outputs": [],
   "source": [
    "def VSE(m):\n",
    "#    m=read_maze('maze-for-u.txt')\n",
    "    key_coord=add_key(m)\n",
    "    m[len(m)-1][len(m[0])-2]='#'\n",
    "    print('1 - Поиск в глубину; 2 - Поиск в ширину; 3 - Алгоритм Дейкстра; 4 - Жадный алгоритм')\n",
    "    algoritm=int(input('Введите номер, который будет соответствовать алгоритму, который вы хотите использовать: '))\n",
    "    if (algoritm==1):\n",
    "        Poisk_v_Glybiny([0,2],m,[],key_coord)\n",
    "    elif (algoritm==2):\n",
    "        Poisk_v_IIIiriny([0,2],m,[],key_coord)\n",
    "    elif (algoritm==3):\n",
    "        Deikstra([0,2,0],m,[],key_coord)\n",
    "    elif (algoritm==4):\n",
    "        JKadnbIi_Algoritm([0,2,0],m,[],key_coord)\n",
    "    else:\n",
    "        print('Error 404: Алгоритм по номеру не найден!')\n",
    "        return(0)\n",
    "    print('Введите параметры для Алгоритма А* в следующем порядке: ')\n",
    "    h=int(input('Приоритет расстояния до выхода: '))\n",
    "    g=int(input('Приоритет расстояния до начальной точки: '))\n",
    "    limit=int(input('Предел количества элементов в памяти возможных ходов (Необдуманный выбор может привести к поломке работы): '))\n",
    "    possible_steps=[]\n",
    "    if (len(possible_steps)!=limit):\n",
    "        view_around_A([key_coord[0],key_coord[1],0],m,possible_steps,key_coord,h,g)\n",
    "    new_coord=step_A([key_coord[0],key_coord[1],0],m,possible_steps)\n",
    "    A_ZBe3do4ka(new_coord,m,possible_steps,key_coord,h,g,limit)\n",
    "    \n",
    "    my_file = open(\"maze-for-me-done.txt\", \"w+\")\n",
    "    for i in range(0,len(m)):\n",
    "        st=''.join(map(str, m[i]))\n",
    "        my_file.write(st + '\\n')\n",
    "    my_file.close()\n",
    "    "
   ]
  },
  {
   "cell_type": "code",
   "execution_count": null,
   "id": "8c149668",
   "metadata": {},
   "outputs": [
    {
     "name": "stdout",
     "output_type": "stream",
     "text": [
      "1 - Поиск в глубину; 2 - Поиск в ширину; 3 - Алгоритм Дейкстра; 4 - Жадный алгоритм\n",
      "Введите номер, который будет соответствовать алгоритму, который вы хотите использовать: 4\n"
     ]
    }
   ],
   "source": [
    "m=read_maze('maze-for-u.txt')\n",
    "VSE(m)"
   ]
  },
  {
   "cell_type": "code",
   "execution_count": 1,
   "id": "d49dc68f",
   "metadata": {},
   "outputs": [],
   "source": [
    "#Мое ядро взрывается, пытаясь работать с лабиринтом. Тут и оптимизация плохая, и компьютер не очень. Извините. \n",
    "#Но с маленькми лабиринтом с горем пополам код работает"
   ]
  },
  {
   "cell_type": "code",
   "execution_count": null,
   "id": "d10062f7",
   "metadata": {},
   "outputs": [],
   "source": []
  }
 ],
 "metadata": {
  "kernelspec": {
   "display_name": "Python 3 (ipykernel)",
   "language": "python",
   "name": "python3"
  },
  "language_info": {
   "codemirror_mode": {
    "name": "ipython",
    "version": 3
   },
   "file_extension": ".py",
   "mimetype": "text/x-python",
   "name": "python",
   "nbconvert_exporter": "python",
   "pygments_lexer": "ipython3",
   "version": "3.9.13"
  }
 },
 "nbformat": 4,
 "nbformat_minor": 5
}

