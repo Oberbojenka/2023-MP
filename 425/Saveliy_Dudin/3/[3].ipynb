{
 "cells": [
  {
   "cell_type": "code",
   "execution_count": 1,
   "id": "f5ab0ca5",
   "metadata": {},
   "outputs": [],
   "source": [
    "# Imports\n",
    "import random\n",
    "import heapq"
   ]
  },
  {
   "cell_type": "code",
   "execution_count": 2,
   "id": "ec8c3897",
   "metadata": {},
   "outputs": [],
   "source": [
    "class Maze:\n",
    "  \"\"\"Класс Maze предоставляет удобный способ работы с лабиринтом.\n",
    "  Он поддерживает методы:\n",
    "  * загрузки из файла и сохранения в файл лабиринта;\n",
    "  * проверки попадания точки в область лабиринта;\n",
    "  * проверки наличия или отсутствия стены;\n",
    "  * set и get методы для точки в лабиринте;\n",
    "  * размеры лабиринта.\n",
    "  \"\"\"\n",
    "  def __init__(self, file_name: str=None):\n",
    "    self.maze = []\n",
    "    if file_name:\n",
    "      self.load_maze(file_name)\n",
    "\n",
    "  def load_maze(self, file_name: str) -> None:\n",
    "    with open(file_name, 'r') as file:\n",
    "      self.maze = [list(line) for line in file.readlines()]\n",
    "\n",
    "  def save_maze(self, file_name: str) -> None:\n",
    "    with open(file_name, 'w') as file:\n",
    "      file.writelines(''.join(line) for line in self.maze)\n",
    "\n",
    "  def check_point(self, point: tuple) -> bool:\n",
    "    return 0 <= point[0] < self.width() and 0 <= point[1] < self.height()\n",
    "\n",
    "  def is_wall(self, point: tuple) -> bool:\n",
    "    return self.maze[point[1]][point[0]] == '#'\n",
    "\n",
    "  def is_empty(self, point: tuple) -> bool:\n",
    "    return self.maze[point[1]][point[0]] == ' '\n",
    "\n",
    "  def set_elem(self, point: tuple, elem: str) -> None:\n",
    "    self.maze[point[1]][point[0]] = elem\n",
    "\n",
    "  def get_elem(self, point: tuple) -> str:\n",
    "    return self.maze[point[1]][point[0]]\n",
    "\n",
    "  def height(self) -> int:\n",
    "    return len(self.maze)\n",
    "\n",
    "  def width(self) -> int:\n",
    "    return len(self.maze[0]) if self.maze else 0"
   ]
  },
  {
   "cell_type": "code",
   "execution_count": 3,
   "id": "5c85e8f3",
   "metadata": {},
   "outputs": [],
   "source": [
    "# Функция для поиска свободной позиции для аватара и ключа\n",
    "def gen_position_in_maze(maze: Maze) -> tuple:\n",
    "  while True:  # Ищем свободную клетку внутри лабиринта\n",
    "    y = random.randint(1, maze.height() - 2)\n",
    "    x = random.randint(1, maze.width() - 2)\n",
    "    if maze.is_empty((x, y)):\n",
    "      return x, y"
   ]
  },
  {
   "cell_type": "code",
   "execution_count": 4,
   "id": "24de87cd",
   "metadata": {},
   "outputs": [],
   "source": [
    "# Функция для выбора выхода из лабиринта\n",
    "def gen_exit_position(maze: Maze) -> tuple:\n",
    "  exits = []\n",
    "  for y in range(maze.height()):  # Проходим по левому и правому краю\n",
    "    exits += [p for x in range(-1, 1) if maze.is_empty(p := (x % maze.width(), y))]\n",
    "  for x in range(maze.width()):  # Проходим по верхнему и нижнему краю\n",
    "    exits += [p for y in range(-1, 1) if maze.is_empty(p := (x, y % maze.height()))]\n",
    "  return random.choice(exits)"
   ]
  },
  {
   "cell_type": "code",
   "execution_count": 5,
   "id": "b3164459",
   "metadata": {},
   "outputs": [],
   "source": [
    "# Функция проверки соседних клеток на наличие пути\n",
    "def get_neighbors(maze: Maze, point: tuple) -> list:\n",
    "  neighbors = []\n",
    "  for d in [(1, 0), (-1, 0), (0, 1), (0, -1)]:  # Проверяем соседей: Справа, Слева, Снизу, Сверху\n",
    "    p = (point[0] + d[0], point[1] + d[1])\n",
    "    if maze.check_point(p) and not maze.is_wall(p):\n",
    "      neighbors.append(p)  # Точка находится внутри лабиринта и она не является препятствием\n",
    "  return neighbors"
   ]
  },
  {
   "cell_type": "code",
   "execution_count": 6,
   "id": "1115ef02",
   "metadata": {},
   "outputs": [],
   "source": [
    "# Алгоритм поиска в глубину (Depth-first search)\n",
    "def dfs(maze: Maze, start: tuple, key_str: str) -> list:\n",
    "  stack = [(start, [start])]\n",
    "  visited = set()\n",
    "  while stack:\n",
    "    current, path = stack.pop()\n",
    "    visited.add(current)\n",
    "    if maze.get_elem(current) == key_str:\n",
    "      return path\n",
    "    neighbors = get_neighbors(maze, current)\n",
    "    for neighbor in [n for n in neighbors if n not in visited]:\n",
    "      stack.append((neighbor, path + [neighbor]))\n",
    "      visited.add(neighbor)"
   ]
  },
  {
   "cell_type": "code",
   "execution_count": 7,
   "id": "a9057f09",
   "metadata": {},
   "outputs": [],
   "source": [
    "# Алгоритм поиска A*\n",
    "def a_star_search(maze: Maze, key: tuple, exit_str: str) -> tuple:\n",
    "  queue = []\n",
    "  heapq.heappush(queue, (0, key, []))\n",
    "  visited = set()\n",
    "  while queue:\n",
    "    cost, point, path = heapq.heappop(queue)\n",
    "    if maze.get_elem(point) == exit_str:\n",
    "      return cost, path\n",
    "    if point in visited:\n",
    "      continue\n",
    "    visited.add(point)\n",
    "    neighbors = get_neighbors(maze, point)\n",
    "    for neighbor in [n for n in neighbors if n not in visited]:\n",
    "      dist = abs(neighbor[0] - key[0]) + abs(neighbor[1] - key[1])\n",
    "      newCost = cost + 1 + dist\n",
    "      newPath = path + [neighbor]\n",
    "      heapq.heappush(queue, (newCost, neighbor, newPath))"
   ]
  },
  {
   "cell_type": "code",
   "execution_count": 8,
   "id": "bc800c0b",
   "metadata": {},
   "outputs": [],
   "source": [
    "# Считывание лабиринта и генерации в нем точек старта, ключа и выхода.\n",
    "# Функция возвращает только позицию начала пути и сам лабиринт\n",
    "def get_maze(file_path: str, START: str, KEY: str, EXIT: str) -> tuple:\n",
    "  maze = Maze(file_path)\n",
    "  maze.set_elem(gen_exit_position(maze), EXIT)\n",
    "  key = start = gen_position_in_maze(maze)\n",
    "  while key == start:  # Проверяем, чтобы ключ не лежал на месте старта\n",
    "    key = gen_position_in_maze(maze)\n",
    "  maze.set_elem(start, START)\n",
    "  maze.set_elem(key, KEY)\n",
    "  return start, maze"
   ]
  },
  {
   "cell_type": "code",
   "execution_count": 9,
   "id": "50e40b6f",
   "metadata": {},
   "outputs": [],
   "source": [
    "# Задаем константы для вывода путей\n",
    "START = 'A'\n",
    "KEY = 'K'\n",
    "EXIT = 'E'\n",
    "TO_KEY = 'k'\n",
    "TO_EXIT = 'e'\n",
    "KEY_EXIT = '*'"
   ]
  },
  {
   "cell_type": "code",
   "execution_count": 10,
   "id": "9da0a97a",
   "metadata": {},
   "outputs": [],
   "source": [
    "start, maze = get_maze('maze-for-u.txt', START, KEY, EXIT)"
   ]
  },
  {
   "cell_type": "code",
   "execution_count": 11,
   "id": "f5bd3a0f",
   "metadata": {},
   "outputs": [],
   "source": [
    "# Поиск ключа\n",
    "dfsPath = dfs(maze, start, KEY)\n",
    "key_point = None\n",
    "if dfsPath is not None:\n",
    "  key_point = dfsPath[-1]"
   ]
  },
  {
   "cell_type": "code",
   "execution_count": 12,
   "id": "28379767",
   "metadata": {},
   "outputs": [],
   "source": [
    "# Поиск выхода (если найден ключ)\n",
    "aStarResult = None\n",
    "if key_point is not None:\n",
    "  aStarResult = a_star_search(maze, key_point, EXIT)"
   ]
  },
  {
   "cell_type": "code",
   "execution_count": 13,
   "id": "50502396",
   "metadata": {},
   "outputs": [],
   "source": [
    "# Построение маршрутов\n",
    "if dfsPath is not None:\n",
    "  for p in dfsPath:\n",
    "    if maze.is_empty(p):\n",
    "      maze.set_elem(p, TO_KEY)\n",
    "  if aStarResult is not None:\n",
    "    for p in aStarResult[1]:\n",
    "      if maze.is_empty(p):\n",
    "        maze.set_elem(p, TO_EXIT)\n",
    "      elif maze.get_elem(p) == 'k':\n",
    "        maze.set_elem(p, KEY_EXIT)"
   ]
  },
  {
   "cell_type": "code",
   "execution_count": 14,
   "id": "c9cb89db",
   "metadata": {},
   "outputs": [
    {
     "name": "stdout",
     "output_type": "stream",
     "text": [
      "Путь до ключа найден!\n",
      "Путь до выхода найден и его цена: 433246\n",
      "Результаты путей записаны в файл maze-for-me-done.txt\n"
     ]
    }
   ],
   "source": [
    "# Результаты работы программы\n",
    "maze.save_maze('maze-for-me-done.txt')\n",
    "if key_point is not None:\n",
    "  print('Путь до ключа найден!')\n",
    "  if aStarResult is not None:\n",
    "    print('Путь до выхода найден и его цена:', aStarResult[0])\n",
    "  else:\n",
    "    print('Нет выхода, стены замурованы')\n",
    "else:\n",
    "  print('Ключ не найден, стены замурованы')\n",
    "print('Результаты путей записаны в файл maze-for-me-done.txt')"
   ]
  },
  {
   "cell_type": "code",
   "execution_count": null,
   "id": "943d43b6",
   "metadata": {},
   "outputs": [],
   "source": []
  }
 ],
 "metadata": {
  "kernelspec": {
   "display_name": "Python 3 (ipykernel)",
   "language": "python",
   "name": "python3"
  },
  "language_info": {
   "codemirror_mode": {
    "name": "ipython",
    "version": 3
   },
   "file_extension": ".py",
   "mimetype": "text/x-python",
   "name": "python",
   "nbconvert_exporter": "python",
   "pygments_lexer": "ipython3",
   "version": "3.9.13"
  }
 },
 "nbformat": 4,
 "nbformat_minor": 5
}
