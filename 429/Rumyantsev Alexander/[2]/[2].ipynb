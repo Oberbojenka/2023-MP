{
 "cells": [
  {
   "cell_type": "code",
   "execution_count": 35,
   "metadata": {},
   "outputs": [],
   "source": [
    "from notebook.services.config import ConfigManager\n",
    "cm = ConfigManager().update('notebook', {'limit_output': 50})"
   ]
  },
  {
   "attachments": {},
   "cell_type": "markdown",
   "metadata": {},
   "source": [
    "## Задание 1. Radix Sort"
   ]
  },
  {
   "cell_type": "code",
   "execution_count": 36,
   "metadata": {},
   "outputs": [],
   "source": [
    "def radix_argsort(A):\n",
    "    n = len(A)\n",
    "    arg = [i for i in range(n)]\n",
    "    mask = 2**8-1\n",
    "    for i in range(8):\n",
    "        count = [[] for j in range(256)]\n",
    "        shift = i*8\n",
    "        for j in range(n):\n",
    "            x = (A[arg[j]] >> shift) & mask\n",
    "            count[x].append(arg[j])\n",
    "        arg = []\n",
    "        for j in range(256):\n",
    "            for x in count[j]:\n",
    "                arg.append(x)\n",
    "    return arg\n"
   ]
  },
  {
   "cell_type": "code",
   "execution_count": 37,
   "metadata": {},
   "outputs": [],
   "source": [
    "array = [i for i in range(int(1e6))]"
   ]
  },
  {
   "cell_type": "code",
   "execution_count": 38,
   "metadata": {},
   "outputs": [
    {
     "data": {
      "text/plain": [
       "[0,\n",
       " 1,\n",
       " 2,\n",
       " 3,\n",
       " 4,\n",
       " 5,\n",
       " 6,\n",
       " 7,\n",
       " 8,\n",
       " 9,\n",
       " 10,\n",
       " 11,\n",
       " 12,\n",
       " 13,\n",
       " 14,\n",
       " 15,\n",
       " 16,\n",
       " 17,\n",
       " 18,\n",
       " 19,\n",
       " 20,\n",
       " 21,\n",
       " 22,\n",
       " 23,\n",
       " 24,\n",
       " 25,\n",
       " 26,\n",
       " 27,\n",
       " 28,\n",
       " 29]"
      ]
     },
     "execution_count": 38,
     "metadata": {},
     "output_type": "execute_result"
    }
   ],
   "source": [
    "array[:30]"
   ]
  },
  {
   "cell_type": "code",
   "execution_count": 39,
   "metadata": {},
   "outputs": [],
   "source": [
    "arg = radix_argsort(array)"
   ]
  },
  {
   "cell_type": "code",
   "execution_count": 40,
   "metadata": {},
   "outputs": [],
   "source": [
    "array_sorted = [array[i] for i in arg]"
   ]
  },
  {
   "cell_type": "code",
   "execution_count": 41,
   "metadata": {},
   "outputs": [
    {
     "data": {
      "text/plain": [
       "[0,\n",
       " 1,\n",
       " 2,\n",
       " 3,\n",
       " 4,\n",
       " 5,\n",
       " 6,\n",
       " 7,\n",
       " 8,\n",
       " 9,\n",
       " 10,\n",
       " 11,\n",
       " 12,\n",
       " 13,\n",
       " 14,\n",
       " 15,\n",
       " 16,\n",
       " 17,\n",
       " 18,\n",
       " 19,\n",
       " 20,\n",
       " 21,\n",
       " 22,\n",
       " 23,\n",
       " 24,\n",
       " 25,\n",
       " 26,\n",
       " 27,\n",
       " 28,\n",
       " 29]"
      ]
     },
     "execution_count": 41,
     "metadata": {},
     "output_type": "execute_result"
    }
   ],
   "source": [
    "array_sorted[:30]"
   ]
  },
  {
   "attachments": {},
   "cell_type": "markdown",
   "metadata": {},
   "source": [
    "## Задание 2. Bucket Sort + Insertion Sort"
   ]
  },
  {
   "cell_type": "code",
   "execution_count": 42,
   "metadata": {},
   "outputs": [],
   "source": [
    "from random import uniform"
   ]
  },
  {
   "cell_type": "code",
   "execution_count": 43,
   "metadata": {},
   "outputs": [],
   "source": [
    "def insertion_array_argsort(A, arg, left, right):\n",
    "    for i in range(left+1, right):\n",
    "        j = i\n",
    "        x = A[arg[j]]\n",
    "        index = arg[j]\n",
    "        while (j > left and A[arg[j-1]] > x):\n",
    "            arg[j] = arg[j-1]\n",
    "            j -= 1\n",
    "        arg[j] = index\n"
   ]
  },
  {
   "cell_type": "code",
   "execution_count": 44,
   "metadata": {},
   "outputs": [],
   "source": [
    "def bucket_argsort(A, a, b):\n",
    "    n = len(A)\n",
    "    if (n == 0):\n",
    "        return []\n",
    "\n",
    "    buckets = [[] for i in range(n)]\n",
    "\n",
    "    for i in range(n):\n",
    "        x = int(n*(A[i]-a) / (b-a))\n",
    "        buckets[x].append(i)\n",
    "\n",
    "    arg = []\n",
    "    for i in range(n):\n",
    "        insertion_array_argsort(A, buckets[i], 0, len(buckets[i]))\n",
    "        for x in buckets[i]:\n",
    "            arg.append(x)\n",
    "\n",
    "    return arg"
   ]
  },
  {
   "cell_type": "code",
   "execution_count": 45,
   "metadata": {},
   "outputs": [],
   "source": [
    "array = [uniform(-1,1) for i in range(99999)]"
   ]
  },
  {
   "cell_type": "code",
   "execution_count": 46,
   "metadata": {},
   "outputs": [
    {
     "data": {
      "text/plain": [
       "[0.37227213687502547,\n",
       " -0.20156450581382024,\n",
       " -0.1401180248724323,\n",
       " 0.5891762505445479,\n",
       " -0.6046187954486786,\n",
       " 0.7132069851824832,\n",
       " -0.3118165124236727,\n",
       " 0.23827742500234583,\n",
       " 0.9416883730575565,\n",
       " -0.6312565647721546,\n",
       " 0.3414515239921727,\n",
       " -0.08447725865331646,\n",
       " 0.7725495036292931,\n",
       " -0.4739711985010193,\n",
       " -0.20723485882815673,\n",
       " 0.39011058294352496,\n",
       " -0.6197166542916517,\n",
       " -0.19303064163888095,\n",
       " -0.2426613667080384,\n",
       " 0.24187951724247192,\n",
       " -0.045817963084569646,\n",
       " 0.31948427151647696,\n",
       " 0.6732812125672261,\n",
       " -0.9694077120792879,\n",
       " 0.9331027899929445,\n",
       " -0.3495678085725369,\n",
       " -0.3436437532924361,\n",
       " -0.4859550944391029,\n",
       " 0.20980767164679692,\n",
       " 0.34927515078533533]"
      ]
     },
     "execution_count": 46,
     "metadata": {},
     "output_type": "execute_result"
    }
   ],
   "source": [
    "array[:30]"
   ]
  },
  {
   "cell_type": "code",
   "execution_count": 47,
   "metadata": {},
   "outputs": [],
   "source": [
    "arg = bucket_argsort(array, -1, 1)"
   ]
  },
  {
   "cell_type": "code",
   "execution_count": 48,
   "metadata": {},
   "outputs": [],
   "source": [
    "array_sorted = [array[i] for i in arg]"
   ]
  },
  {
   "cell_type": "code",
   "execution_count": 49,
   "metadata": {},
   "outputs": [
    {
     "data": {
      "text/plain": [
       "[-0.9999705808275752,\n",
       " -0.9999700132330867,\n",
       " -0.9999469495627757,\n",
       " -0.9999455228904628,\n",
       " -0.9999077514065786,\n",
       " -0.999890066604268,\n",
       " -0.9998865697766544,\n",
       " -0.9998764598825185,\n",
       " -0.999870149211094,\n",
       " -0.9998140768915726,\n",
       " -0.9998133245642986,\n",
       " -0.999750360969113,\n",
       " -0.9997386976538822,\n",
       " -0.9997356373402846,\n",
       " -0.9997099967243384,\n",
       " -0.9997083248418617,\n",
       " -0.9996982452558787,\n",
       " -0.9996744560609891,\n",
       " -0.9996239183087068,\n",
       " -0.9996139160673563,\n",
       " -0.9995919130210908,\n",
       " -0.9995537584888923,\n",
       " -0.999518416300198,\n",
       " -0.9995116832740969,\n",
       " -0.9995023166441641,\n",
       " -0.9994653423313029,\n",
       " -0.9994588349282056,\n",
       " -0.9994164722851464,\n",
       " -0.9994149308667284,\n",
       " -0.9994048637122825]"
      ]
     },
     "execution_count": 49,
     "metadata": {},
     "output_type": "execute_result"
    }
   ],
   "source": [
    "array_sorted[:30]"
   ]
  },
  {
   "cell_type": "code",
   "execution_count": 50,
   "metadata": {},
   "outputs": [
    {
     "data": {
      "text/plain": [
       "[0.7997770700570892,\n",
       " 0.7997778657413819,\n",
       " 0.7998345149165522,\n",
       " 0.7998445106316463,\n",
       " 0.7998532159449556,\n",
       " 0.7998647709770406,\n",
       " 0.7998835782677733,\n",
       " 0.7999019495859849,\n",
       " 0.799918141895964,\n",
       " 0.7999218664952277,\n",
       " 0.7999380312550199,\n",
       " 0.7999420068406453,\n",
       " 0.7999883339190037,\n",
       " 0.7999907602997529,\n",
       " 0.7999938452330073,\n",
       " 0.800003763667748,\n",
       " 0.8000081718834318,\n",
       " 0.8000315013936465,\n",
       " 0.8000342689273232,\n",
       " 0.8000788349601407,\n",
       " 0.8000915726708049,\n",
       " 0.8001481691873178,\n",
       " 0.8001639738139565,\n",
       " 0.8002006164139366,\n",
       " 0.8002019925168873,\n",
       " 0.8002268903310865,\n",
       " 0.8002278421192666,\n",
       " 0.8002304414948609,\n",
       " 0.8002412025433485,\n",
       " 0.8002468837822183]"
      ]
     },
     "execution_count": 50,
     "metadata": {},
     "output_type": "execute_result"
    }
   ],
   "source": [
    "array_sorted[90000:90030]"
   ]
  },
  {
   "attachments": {},
   "cell_type": "markdown",
   "metadata": {},
   "source": [
    "# Задание 3. Quick Sort + Insertion Sort"
   ]
  },
  {
   "cell_type": "code",
   "execution_count": 51,
   "metadata": {},
   "outputs": [],
   "source": [
    "from random import randint\n",
    "\n",
    "def partition(A, arg, left, right, pivot):\n",
    "    x = A[arg[pivot]]\n",
    "    arg[pivot], arg[right-1] = arg[right-1], arg[pivot]\n",
    "    i = left-1\n",
    "\n",
    "    for j in range(left, right-1):\n",
    "        if A[arg[j]] < x or (A[arg[j]] == x and arg[j] < arg[pivot]):\n",
    "            i += 1\n",
    "            arg[i], arg[j] = arg[j], arg[i]\n",
    "\n",
    "    arg[i+1], arg[right-1] = arg[right-1], arg[i+1]\n",
    "    return i+1\n",
    "\n",
    "\n",
    "def quick_sort(A, arg, left, right):\n",
    "    while (right-left >= 1):\n",
    "        j = partition(A, arg, left, right, randint(left, right-1))\n",
    "\n",
    "        if j-left <= right - j - 1:\n",
    "            quick_sort(A, arg, left, j)\n",
    "            left = j + 1\n",
    "        else:\n",
    "            quick_sort(A, arg, j+1, right)\n",
    "            right = j\n",
    "\n",
    "    insertion_array_argsort(A, arg, left, right)\n",
    "\n",
    "def quick_argsort(A):\n",
    "    n = len(A)\n",
    "    arg = [i for i in range(n)]\n",
    "    quick_sort(A, arg, 0, n)\n",
    "    return arg"
   ]
  },
  {
   "cell_type": "code",
   "execution_count": 52,
   "metadata": {},
   "outputs": [],
   "source": [
    "from math import sqrt\n",
    "\n",
    "r = 15/6\n",
    "\n",
    "def complex_generator():\n",
    "    x = uniform(-r,r)\n",
    "    t = sqrt(r**2 - x**2)\n",
    "    y = uniform(-t, t)\n",
    "    return x, y"
   ]
  },
  {
   "cell_type": "code",
   "execution_count": 53,
   "metadata": {},
   "outputs": [],
   "source": [
    "array = [complex_generator() for i in range(42000)]\n",
    "modules = [i[0]**2 + i[1]**2 for i in array]"
   ]
  },
  {
   "cell_type": "code",
   "execution_count": 54,
   "metadata": {},
   "outputs": [
    {
     "data": {
      "text/plain": [
       "[(-0.37267249379809897, -2.1468758254883467),\n",
       " (1.4766688291570338, 1.05553781806225),\n",
       " (1.0824734709032766, 1.4192462850298249),\n",
       " (-0.5162452910623911, -1.5137921852994665),\n",
       " (-2.090012887514476, 0.047337416733681525),\n",
       " (2.33365335898607, -0.6673439858243333),\n",
       " (1.9793338207974749, -0.3520576015487953),\n",
       " (-0.3677706481224998, 0.3093196084981811),\n",
       " (-1.7434712473493197, 0.13862949525487123),\n",
       " (-0.127427255008139, -0.44540472289825983),\n",
       " (-2.2032889317996656, -0.6541599725529084),\n",
       " (0.6668542860588595, 0.33039524120841524),\n",
       " (0.23397724241231987, -0.6518971807424228),\n",
       " (-1.5271424112507825, 1.2287023982704157),\n",
       " (-1.973294634372404, 0.7271868143995328),\n",
       " (0.6672188267898527, 0.0067309802776818195),\n",
       " (-1.800030017694692, 0.3238226503776882),\n",
       " (1.8758560755255074, 0.7049984366159361),\n",
       " (1.10628833178344, 1.6181981048111376),\n",
       " (-0.695921489237608, -0.7025283758749938),\n",
       " (-1.8603864909346117, -1.5181956491277937),\n",
       " (-0.8843064791109689, -1.4203017778127265),\n",
       " (-0.09397837590574332, 1.8777006926772288),\n",
       " (-1.8860231312504134, -0.9402613089739726),\n",
       " (-1.1981239609825867, -1.0408342951589453),\n",
       " (1.1398504962287936, 0.48016278800760315),\n",
       " (1.2260231610499384, -1.8645122111534986),\n",
       " (-1.996946273607822, 0.24341241729462926),\n",
       " (-1.9819079556029355, -1.3928891013419802),\n",
       " (-0.7119397144036927, 1.2872226432692466)]"
      ]
     },
     "execution_count": 54,
     "metadata": {},
     "output_type": "execute_result"
    }
   ],
   "source": [
    "array[:30]"
   ]
  },
  {
   "cell_type": "code",
   "execution_count": 55,
   "metadata": {},
   "outputs": [],
   "source": [
    "arg = quick_argsort(modules)"
   ]
  },
  {
   "cell_type": "code",
   "execution_count": 56,
   "metadata": {},
   "outputs": [],
   "source": [
    "sorted_array = [array[i] for i in arg]"
   ]
  },
  {
   "cell_type": "code",
   "execution_count": 57,
   "metadata": {},
   "outputs": [
    {
     "data": {
      "text/plain": [
       "[(-0.012469983094035797, 0.02294552250185422),\n",
       " (-0.006675018148173173, 0.02717779880053728),\n",
       " (-0.00033030119634158694, 0.029233188704316238),\n",
       " (0.028701057424008525, -0.01379074636030353),\n",
       " (-0.006475333424202034, 0.03344576430958268),\n",
       " (-0.019496908225799636, 0.029702692464855573),\n",
       " (-0.010074840261633966, -0.040567490293663244),\n",
       " (0.0447552200123873, -0.006804323079416363),\n",
       " (-0.046679297213783055, 8.55837538269455e-05),\n",
       " (0.047036142167201866, -0.001184043009746727),\n",
       " (0.0005584123735378199, 0.04752526140869673),\n",
       " (0.03888221930249003, 0.029344283006920602),\n",
       " (-0.04455493196899463, 0.02053715037932724),\n",
       " (0.027456608073135325, 0.04450074015026262),\n",
       " (-0.01886698059102976, -0.048910203743068426),\n",
       " (0.05199263334244364, -0.014910932577593794),\n",
       " (-0.01831492417430436, -0.05207302819281612),\n",
       " (0.006839794697490298, 0.05477751809879816),\n",
       " (-0.04972671569649201, -0.02826544183723456),\n",
       " (-0.05687114461492726, 0.009968891831359183),\n",
       " (0.0035117012265111214, -0.05790386251519797),\n",
       " (-0.02576385169530493, 0.05213074919129035),\n",
       " (0.027446163600872264, -0.05295875914148862),\n",
       " (-0.056345946475881536, 0.025154274143720734),\n",
       " (-0.06125633849826739, 0.014087422178942877),\n",
       " (-0.0016130962098475088, 0.06607272450964397),\n",
       " (-0.033803282916406996, 0.05749101862031125),\n",
       " (-0.00892442112705405, -0.06637971672287346),\n",
       " (-0.03833330888933828, 0.055474291966971734),\n",
       " (0.058206403522814476, 0.03461675331304592)]"
      ]
     },
     "execution_count": 57,
     "metadata": {},
     "output_type": "execute_result"
    }
   ],
   "source": [
    "sorted_array[:30]"
   ]
  },
  {
   "attachments": {},
   "cell_type": "markdown",
   "metadata": {},
   "source": [
    "# 4. Heap Sort"
   ]
  },
  {
   "cell_type": "code",
   "execution_count": 58,
   "metadata": {},
   "outputs": [],
   "source": [
    "class Heap:\n",
    "    def __init__(self, n) -> None:\n",
    "        self.heap = [0 for i in range(n)]\n",
    "        self.count = 0\n",
    "\n",
    "    def push(self, add):\n",
    "        self.heap[self.count] = add\n",
    "        i = self.count\n",
    "        self.count += 1\n",
    "        while i > 0 and self.heap[i] < self.heap[(i - 1) // 2]:\n",
    "            self.heap[i], self.heap[(i - 1) // 2] = self.heap[(i - 1) // 2], self.heap[i]\n",
    "            i = (i - 1) // 2\n",
    "\n",
    "    def pop(self):\n",
    "        min = self.heap[0]\n",
    "        self.count -= 1\n",
    "        self.heap[0], self.heap[self.count] = self.heap[self.count], self.heap[0]\n",
    "        i = 0\n",
    "        while True:\n",
    "            j = i\n",
    "            for k in range(1, 3):\n",
    "                if 2 * i + k < self.count and self.heap[2 * i + k] < self.heap[j]:\n",
    "                    j = 2 * i + k\n",
    "            if i == j:\n",
    "                break\n",
    "            else:\n",
    "                self.heap[i], self.heap[j] = self.heap[j], self.heap[i]\n",
    "                i = j\n",
    "        return min\n"
   ]
  },
  {
   "cell_type": "code",
   "execution_count": 59,
   "metadata": {},
   "outputs": [],
   "source": [
    "def heap_sort(array):\n",
    "    n = len(array)\n",
    "    h = Heap(n)\n",
    "    for i in range(n):\n",
    "        h.push(array[i])\n",
    "    array_sorted = []\n",
    "    for i in range(n):\n",
    "        array_sorted.append(h.pop())\n",
    "    return array_sorted"
   ]
  },
  {
   "attachments": {},
   "cell_type": "markdown",
   "metadata": {},
   "source": [
    "Читаем текст из файла."
   ]
  },
  {
   "cell_type": "code",
   "execution_count": 60,
   "metadata": {},
   "outputs": [],
   "source": [
    "words = []"
   ]
  },
  {
   "cell_type": "code",
   "execution_count": 61,
   "metadata": {},
   "outputs": [],
   "source": [
    "import re\n",
    "\n",
    "with open('txt.txt', encoding='cp1252') as file:\n",
    "    for i in file:\n",
    "        str = i\n",
    "        str = re.sub(r'[^A-Za-z]', ' ', str)\n",
    "        str = str.lower()\n",
    "        words += str.split()\n"
   ]
  },
  {
   "cell_type": "code",
   "execution_count": 62,
   "metadata": {},
   "outputs": [],
   "source": [
    "words = list(set(words))"
   ]
  },
  {
   "cell_type": "code",
   "execution_count": 63,
   "metadata": {},
   "outputs": [
    {
     "data": {
      "text/plain": [
       "['emitted',\n",
       " 'weren',\n",
       " 'always',\n",
       " 'tradition',\n",
       " 'regularities',\n",
       " 'operate',\n",
       " 'rocket',\n",
       " 'try',\n",
       " 'galilei',\n",
       " 'specified',\n",
       " 'evaporated',\n",
       " 'dimension',\n",
       " 'approximation',\n",
       " 'lies',\n",
       " 'regarded',\n",
       " 'stubbed',\n",
       " 'dalton',\n",
       " 'project',\n",
       " 'her',\n",
       " 'called',\n",
       " 'till',\n",
       " 'major',\n",
       " 'stephen',\n",
       " 'attracts',\n",
       " 'talking',\n",
       " 'practice',\n",
       " 'lifshitz',\n",
       " 'heavy',\n",
       " 'men',\n",
       " 'russell']"
      ]
     },
     "execution_count": 63,
     "metadata": {},
     "output_type": "execute_result"
    }
   ],
   "source": [
    "words[:30]"
   ]
  },
  {
   "cell_type": "code",
   "execution_count": 64,
   "metadata": {},
   "outputs": [],
   "source": [
    "words_sorted = heap_sort(words)"
   ]
  },
  {
   "cell_type": "code",
   "execution_count": 65,
   "metadata": {},
   "outputs": [
    {
     "data": {
      "text/plain": [
       "['a',\n",
       " 'abacus',\n",
       " 'abandon',\n",
       " 'abandoned',\n",
       " 'abdus',\n",
       " 'abhors',\n",
       " 'abilities',\n",
       " 'ability',\n",
       " 'able',\n",
       " 'about',\n",
       " 'above',\n",
       " 'absence',\n",
       " 'absent',\n",
       " 'absolute',\n",
       " 'absorb',\n",
       " 'absorbed',\n",
       " 'absorbing',\n",
       " 'absorbs',\n",
       " 'absorption',\n",
       " 'absurd',\n",
       " 'abundances',\n",
       " 'academe',\n",
       " 'academic',\n",
       " 'academics',\n",
       " 'accelerate',\n",
       " 'accelerated',\n",
       " 'accelerating',\n",
       " 'acceleration',\n",
       " 'accelerator',\n",
       " 'accelerators']"
      ]
     },
     "execution_count": 65,
     "metadata": {},
     "output_type": "execute_result"
    }
   ],
   "source": [
    "words_sorted[:30]"
   ]
  },
  {
   "cell_type": "code",
   "execution_count": 66,
   "metadata": {},
   "outputs": [
    {
     "data": {
      "text/plain": [
       "4429"
      ]
     },
     "execution_count": 66,
     "metadata": {},
     "output_type": "execute_result"
    }
   ],
   "source": [
    "len(words_sorted)"
   ]
  },
  {
   "cell_type": "code",
   "execution_count": 67,
   "metadata": {},
   "outputs": [
    {
     "data": {
      "text/plain": [
       "['false',\n",
       " 'falsified',\n",
       " 'familiar',\n",
       " 'family',\n",
       " 'famous',\n",
       " 'fan',\n",
       " 'fantastic',\n",
       " 'far',\n",
       " 'farther',\n",
       " 'farthest',\n",
       " 'fast',\n",
       " 'faster',\n",
       " 'fatal',\n",
       " 'fate',\n",
       " 'favor',\n",
       " 'favored',\n",
       " 'fear',\n",
       " 'fearing',\n",
       " 'feather',\n",
       " 'feature',\n",
       " 'features',\n",
       " 'feed',\n",
       " 'feel',\n",
       " 'feeling',\n",
       " 'feelings',\n",
       " 'feels',\n",
       " 'feet',\n",
       " 'fell',\n",
       " 'fella',\n",
       " 'fellow']"
      ]
     },
     "execution_count": 67,
     "metadata": {},
     "output_type": "execute_result"
    }
   ],
   "source": [
    "words_sorted[1500:1530]"
   ]
  },
  {
   "cell_type": "code",
   "execution_count": null,
   "metadata": {},
   "outputs": [],
   "source": []
  }
 ],
 "metadata": {
  "kernelspec": {
   "display_name": "Python 3",
   "language": "python",
   "name": "python3"
  },
  "language_info": {
   "codemirror_mode": {
    "name": "ipython",
    "version": 3
   },
   "file_extension": ".py",
   "mimetype": "text/x-python",
   "name": "python",
   "nbconvert_exporter": "python",
   "pygments_lexer": "ipython3",
   "version": "3.10.6"
  },
  "orig_nbformat": 4
 },
 "nbformat": 4,
 "nbformat_minor": 2
}
