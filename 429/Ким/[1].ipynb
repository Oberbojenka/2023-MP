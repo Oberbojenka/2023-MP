{
 "cells": [
  {
   "cell_type": "code",
   "execution_count": 2,
   "id": "d9d82abe",
   "metadata": {},
   "outputs": [],
   "source": [
    "import datetime\n",
    "import queue\n",
    "\n",
    "my_data = (\"Ким\",\"Александр\", 11,11,1111)\n",
    "disk_marks={\n",
    "    \"Мемология\": 100,\n",
    "    \"Аниматика\": 100,\n",
    "    \"Колдовство\": 78,\n",
    "    \"Заговоры\": 54,\n",
    "    \"Фехтование\": 43,\n",
    "    \"Бальные танцы\": 86,\n",
    "    \"Капитал\": 23,\n",
    "    \"Песнь люда и пламени\": 64,\n",
    "    \"Третий закон\": 86,\n",
    "    \"Шаманство\": 45,\n",
    "    'Холопея/Холомиф': 100,\n",
    "    \"Экология\": 12,\n",
    "    \"История КПСС\": 63,\n",
    "    \"История НСДАП\": 76\n",
    "    }\n",
    "family_names=['Sany ','Dimon','Dimon','Lexa','Vany','Galy','Petrovich','Migera','Galy']\n",
    "kiwa_name = 'Nekomata Okayu'"
   ]
  },
  {
   "cell_type": "code",
   "execution_count": 3,
   "id": "3a01b82d",
   "metadata": {},
   "outputs": [
    {
     "name": "stdout",
     "output_type": "stream",
     "text": [
      "66.42857142857143\n"
     ]
    }
   ],
   "source": [
    "sum_1=sum(disk_marks.values())/len(disk_marks)\n",
    "print(sum_1)"
   ]
  },
  {
   "cell_type": "code",
   "execution_count": 4,
   "id": "f86b6588",
   "metadata": {},
   "outputs": [
    {
     "name": "stdout",
     "output_type": "stream",
     "text": [
      "['Александр', 'Sany ', 'Dimon', 'Lexa', 'Vany', 'Galy', 'Petrovich', 'Migera']\n"
     ]
    }
   ],
   "source": [
    "unic_name=[my_data[1]]\n",
    "for name in family_names:\n",
    "    if name in unic_name:\n",
    "        continue\n",
    "    unic_name.append(name)\n",
    "print (unic_name)"
   ]
  },
  {
   "cell_type": "code",
   "execution_count": 5,
   "id": "96a29936",
   "metadata": {},
   "outputs": [
    {
     "name": "stdout",
     "output_type": "stream",
     "text": [
      "155\n"
     ]
    }
   ],
   "source": [
    "len_all_subject=0\n",
    "for element in disk_marks:\n",
    "    len_all_subject+=len(element)\n",
    "print(len_all_subject)"
   ]
  },
  {
   "cell_type": "code",
   "execution_count": 6,
   "id": "8d83f3af",
   "metadata": {},
   "outputs": [
    {
     "name": "stdout",
     "output_type": "stream",
     "text": [
      "['М', 'е', 'м', 'о', 'л', 'г', 'и', 'я', 'А', 'н', 'а', 'т', 'к', 'К', 'д', 'в', 'с', 'З', 'р', 'ы', 'Ф', 'х', 'Б', 'ь', ' ', 'ц', 'п', 'П', 'ю', 'Т', 'й', 'з', 'Ш', 'Х', '/', 'ф', 'Э', 'И', 'С', 'Н', 'Д']\n"
     ]
    }
   ],
   "source": [
    "unic_letter=[]\n",
    "for element in disk_marks:\n",
    "    for letter in range (0,len(element)):\n",
    "        if element[letter] in unic_letter:\n",
    "            continue\n",
    "        unic_letter.append(element[letter])\n",
    "print (unic_letter)"
   ]
  },
  {
   "cell_type": "code",
   "execution_count": 7,
   "id": "3a82bd4c",
   "metadata": {},
   "outputs": [
    {
     "name": "stdout",
     "output_type": "stream",
     "text": [
      "0b1001110 0b1100101 0b1101011 0b1101111 0b1101101 0b1100001 0b1110100 0b1100001 0b100000 0b1001111 0b1101011 0b1100001 0b1111001 0b1110101 "
     ]
    }
   ],
   "source": [
    "for letter in range(0,len(kiwa_name)):\n",
    "    print(bin(ord(kiwa_name[letter])),end=' ')\n",
    "\n"
   ]
  },
  {
   "cell_type": "code",
   "execution_count": 9,
   "id": "afa99118",
   "metadata": {},
   "outputs": [
    {
     "name": "stdout",
     "output_type": "stream",
     "text": [
      "['Аниматика', 'Бальные танцы', 'Заговоры', 'История КПСС', 'История НСДАП', 'Колдовство', 'Капитал', 'Мемология', 'Песнь люда и пламени', 'Третий закон', 'Фехтование', 'Холопея/Холомиф', 'Шаманство', 'Экология']\n",
      "\n",
      "['Экология', 'Шаманство', 'Холопея/Холомиф', 'Фехтование', 'Третий закон', 'Песнь люда и пламени', 'Мемология', 'Колдовство', 'Капитал', 'История КПСС', 'История НСДАП', 'Заговоры', 'Бальные танцы', 'Аниматика']\n"
     ]
    }
   ],
   "source": [
    "temp=[]\n",
    "for element in disk_marks:\n",
    "    temp.append(element)\n",
    "temp_numbers=[0]*len(temp)\n",
    "sort_sub=[]\n",
    "for i in range(0,len(temp)):\n",
    "    for j in range(0,len(temp)):\n",
    "        if (i!=j):\n",
    "            if (ord(temp[i][0])>ord(temp[j][0])):\n",
    "                temp_numbers[i]+=1\n",
    "for i in range(0,max(temp_numbers)+1):\n",
    "    for j in range(0,len(temp_numbers)):\n",
    "        if (temp_numbers[j]==i):\n",
    "            sort_sub.append(temp[j])\n",
    "print(sort_sub)\n",
    "print()\n",
    "sort_sub_reverse=[]\n",
    "for i in range(0,max(temp_numbers)+1):\n",
    "    for j in range(0,len(temp_numbers)):\n",
    "        if (temp_numbers[j]==max(temp_numbers)-i):\n",
    "            sort_sub_reverse.append(temp[j])\n",
    "print(sort_sub_reverse)"
   ]
  },
  {
   "cell_type": "code",
   "execution_count": 10,
   "id": "63e09fb9",
   "metadata": {},
   "outputs": [
    {
     "name": "stdout",
     "output_type": "stream",
     "text": [
      "332899\n"
     ]
    }
   ],
   "source": [
    "today = datetime.datetime.today()\n",
    "my_bday = datetime.datetime(day=my_data[2],\n",
    "                            month=my_data[3],\n",
    "                            year=my_data[4])\n",
    "print((today - my_bday).days)"
   ]
  },
  {
   "cell_type": "code",
   "execution_count": 24,
   "id": "1cef4e26",
   "metadata": {},
   "outputs": [
    {
     "name": "stdout",
     "output_type": "stream",
     "text": [
      "Для завершения ввода напишит 'end'. \n",
      "Пдается на вход: das\n",
      "fgd\n",
      "few\n",
      "jgf\n",
      "32\n",
      "524\n",
      "574\n",
      "12\n",
      "1,3\n",
      "1.54\n",
      "end\n",
      "das ;  fgd;  few;  jgf;  32;  524;  574;  12;  1,3;  1.54.\n"
     ]
    }
   ],
   "source": [
    "stuff  = queue.Queue(101)\n",
    "\n",
    "print(\"Для завершения ввода напишит 'end'. \")\n",
    "\n",
    "i = (input('Пдается на вход: '))\n",
    "while i!='end':\n",
    "    stuff.put(i)\n",
    "    i = (input())\n",
    "print(stuff.get(),end=' ')\n",
    "while not stuff.empty():\n",
    "    print('; ',stuff.get(),end='')\n",
    "print('.')"
   ]
  },
  {
   "cell_type": "code",
   "execution_count": 26,
   "id": "786f02a6",
   "metadata": {},
   "outputs": [
    {
     "name": "stdout",
     "output_type": "stream",
     "text": [
      "5\n"
     ]
    }
   ],
   "source": [
    "print((my_data[2] + my_data[3]**2 + my_data[4]) % 21 + 1)"
   ]
  },
  {
   "cell_type": "code",
   "execution_count": 38,
   "id": "decfde6d",
   "metadata": {},
   "outputs": [
    {
     "name": "stdout",
     "output_type": "stream",
     "text": [
      "['Dimon', 'Dimon', 'Galy', 'Galy', 'Lexa', 'Migera', 'Petrovich', 'Sany ', 'Vany']\n",
      "Введите номер в списке родственников, которого вы променяете на Ацтекского правителя: 3\n",
      "['Dimon', 'Dimon', 'Galy', 'Xihuitl Temoc', 'Lexa', 'Migera', 'Petrovich', 'Sany ', 'Vany']\n"
     ]
    }
   ],
   "source": [
    "temp=[]\n",
    "for element in family_names:\n",
    "    temp.append(element)\n",
    "temp_numbers=[0]*len(temp)\n",
    "sort_name=[]\n",
    "for i in range(0,len(temp)):\n",
    "    for j in range(0,len(temp)):\n",
    "        if (i!=j):\n",
    "            if (ord(temp[i][0])>ord(temp[j][0])):\n",
    "                temp_numbers[i]+=1\n",
    "for i in range(0,max(temp_numbers)+1):\n",
    "    for j in range(0,len(temp_numbers)):\n",
    "        if (temp_numbers[j]==i):\n",
    "            sort_name.append(temp[j])\n",
    "print(sort_name)\n",
    "\n",
    "i=int(input('Введите номер в списке родственников, которого вы променяете на Ацтекского правителя: '))\n",
    "sort_name[i]='Xihuitl Temoc'\n",
    "print(sort_name)"
   ]
  },
  {
   "cell_type": "code",
   "execution_count": 53,
   "id": "ddcb1429",
   "metadata": {},
   "outputs": [],
   "source": [
    "class KotbI_v_korobke:\n",
    "    def __init__(self):\n",
    "        self.content=[[],[],[]]\n",
    "        self.first=0\n",
    "    def append(self,name,data,next='-'):\n",
    "        if (next=='-'):\n",
    "            next=len(self.content[2])+1\n",
    "        for i in range (0,len(self.content[2])):\n",
    "            if next==self.content[2][i]:\n",
    "                print('EROR! File is not append!')\n",
    "                return(None)\n",
    "        self.content[0].append(name)\n",
    "        self.content[1].append(data)\n",
    "        self.content[2].append(next)\n",
    "    def print_kotiki(self,ind):\n",
    "        temp=ind\n",
    "        while (temp<len(self.content[0])):\n",
    "            print(self.content[0][temp], end=' ')\n",
    "            if (self.content[2][temp]==\"end\"):\n",
    "                break\n",
    "            temp=self.content[2][temp]\n",
    "        print()\n",
    "    def sort(self):\n",
    "        temp=[0]*len(self.content[1])\n",
    "        for j in range(0,len(self.content[1])):\n",
    "            for i in range(0,len(self.content[1])):\n",
    "                if (self.content[1][j]>self.content[1][i]):\n",
    "                    temp[j]+=1\n",
    "        for i in range(0,len(self.content[1])):\n",
    "            for j in range(0,len(self.content[1])):\n",
    "                if (temp[i]-temp[j]==1) and (i!=j):\n",
    "                    self.content[2][j]=i\n",
    "        for i in range(0,len(self.content[1])):\n",
    "            if (temp[i]==0):\n",
    "                self.first=i\n",
    "        last=0\n",
    "        for i in range(0,len(self.content[1])):\n",
    "            if (temp[i]>temp[last]):\n",
    "                last=i\n",
    "        self.content[2][last]=len(self.content[1])\n",
    "    def call(self,name):\n",
    "        temp=0\n",
    "        for i in range(0,len(self.content[1])):\n",
    "            if (self.content[0][i]==name):\n",
    "                print(self.content[0][i],' - ',self.content[1][i],'. Number = ',i)\n",
    "                temp+=1\n",
    "        if (temp!=1):\n",
    "            print('File not found.')\n",
    "    def call_first(self):\n",
    "        print(self.content[0][self.first],' - ',self.content[1][self.first],'. Number = ',self.first)"
   ]
  },
  {
   "cell_type": "code",
   "execution_count": 169,
   "id": "89810667",
   "metadata": {},
   "outputs": [
    {
     "name": "stdout",
     "output_type": "stream",
     "text": [
      "E  -  1995 . Number =  0\n",
      "\n",
      "E Mi Ti Ko Ki - LbI \n",
      "\n",
      "Mi  -  1993 . Number =  1\n",
      "\n",
      "Ko  -  1990 . Number =  3\n",
      "\n",
      "Ko Ti Ki - Mi LbI E \n",
      "\n",
      "Ko Ti Ki - Mi LbI E \n"
     ]
    }
   ],
   "source": [
    "Rodichi=KotbI_v_korobke()\n",
    "Rodichi.append('E',1995)\n",
    "Rodichi.append('Mi',1993)\n",
    "Rodichi.append('Ti',1991)\n",
    "Rodichi.append('Ko',1990)\n",
    "Rodichi.append('Ki -',1992)\n",
    "Rodichi.append('LbI',1994)\n",
    "Rodichi.call_first()\n",
    "print()\n",
    "Rodichi.print_kotiki(0)\n",
    "Rodichi.sort()\n",
    "print()\n",
    "Rodichi.call('Mi')\n",
    "print()\n",
    "Rodichi.call_first()\n",
    "print()\n",
    "Rodichi.print_kotiki(3)\n",
    "print()\n",
    "Rodichi.print_kotiki(Rodichi.first)"
   ]
  },
  {
   "cell_type": "code",
   "execution_count": 175,
   "id": "3c21fa9f",
   "metadata": {},
   "outputs": [
    {
     "name": "stdout",
     "output_type": "stream",
     "text": [
      "0\n"
     ]
    }
   ],
   "source": [
    "print((len(my_data[0])+len(my_data[1])) * len (family_names) % 4)"
   ]
  },
  {
   "cell_type": "code",
   "execution_count": 79,
   "id": "07d4fdb6",
   "metadata": {},
   "outputs": [],
   "source": [
    "period=[]\n",
    "def Аликвотная_Последовательность(first):\n",
    "    global period\n",
    "    if (first==0):\n",
    "        print()\n",
    "        period.clear()\n",
    "        return(0)\n",
    "    temp=0\n",
    "    for i in range(1,first//2+1):\n",
    "        if (first%i==0):\n",
    "            temp+=i\n",
    "    print(temp,end=' ')\n",
    "    period.append(first)\n",
    "    for i in range (0,len(period)):\n",
    "        if (temp==period[i]):\n",
    "            print('...')\n",
    "            period.clear()\n",
    "            return(0)\n",
    "    Аликвотная_Последовательность(temp)"
   ]
  },
  {
   "cell_type": "code",
   "execution_count": 80,
   "id": "8419c4f0",
   "metadata": {
    "scrolled": true
   },
   "outputs": [
    {
     "name": "stdout",
     "output_type": "stream",
     "text": [
      "8 7 1 0 \n",
      "1 0 \n",
      "2172 2924 2620 2924 ...\n",
      "25 6 6 ...\n",
      "6 6 ...\n"
     ]
    }
   ],
   "source": [
    "Аликвотная_Последовательность(10)\n",
    "Аликвотная_Последовательность(11)\n",
    "Аликвотная_Последовательность(1188)\n",
    "Аликвотная_Последовательность(95)\n",
    "Аликвотная_Последовательность(25)"
   ]
  },
  {
   "cell_type": "code",
   "execution_count": null,
   "id": "9b03c2ee",
   "metadata": {},
   "outputs": [],
   "source": [
    "period=[]"
   ]
  },
  {
   "cell_type": "code",
   "execution_count": 166,
   "id": "30895b11",
   "metadata": {},
   "outputs": [],
   "source": [
    "def Генератор_Аликвотная_Последовательность(first):\n",
    "    global period\n",
    "    if (first==0):\n",
    "        period.append(first)\n",
    "        return(0)\n",
    "    temp=0\n",
    "    for i in range(1,first//2+1):\n",
    "        if (first%i==0):\n",
    "            temp+=i\n",
    "    period.append(first)\n",
    "    for i in range (0,len(period)):\n",
    "        if (temp==period[i]):\n",
    "            return(0)\n",
    "    Генератор_Аликвотная_Последовательность(temp)\n",
    "    \n",
    "def Генератор(first):\n",
    "    Генератор_Аликвотная_Последовательность(first)\n",
    "    global temp\n",
    "    for i in range(0,len(period)):\n",
    "        yield(period[i])\n",
    "    period.clear()"
   ]
  },
  {
   "cell_type": "code",
   "execution_count": 168,
   "id": "caea65a9",
   "metadata": {},
   "outputs": [
    {
     "name": "stdout",
     "output_type": "stream",
     "text": [
      "95\n",
      "25\n",
      "6\n"
     ]
    }
   ],
   "source": [
    "for i in Генератор(95):\n",
    "    print(i)"
   ]
  },
  {
   "cell_type": "code",
   "execution_count": null,
   "id": "7899bba5",
   "metadata": {},
   "outputs": [],
   "source": []
  }
 ],
 "metadata": {
  "kernelspec": {
   "display_name": "Python 3 (ipykernel)",
   "language": "python",
   "name": "python3"
  },
  "language_info": {
   "codemirror_mode": {
    "name": "ipython",
    "version": 3
   },
   "file_extension": ".py",
   "mimetype": "text/x-python",
   "name": "python",
   "nbconvert_exporter": "python",
   "pygments_lexer": "ipython3",
   "version": "3.9.13"
  }
 },
 "nbformat": 4,
 "nbformat_minor": 5
}
